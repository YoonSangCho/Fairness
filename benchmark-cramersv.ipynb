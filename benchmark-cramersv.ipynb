{
 "cells": [
  {
   "attachments": {},
   "cell_type": "markdown",
   "metadata": {},
   "source": [
    "1. Benchmark Datasets\n",
    "* ref: https://thinkingneuron.com/how-to-measure-the-correlation-between-two-categorical-variables-in-python/"
   ]
  },
  {
   "cell_type": "code",
   "execution_count": 1,
   "metadata": {},
   "outputs": [],
   "source": [
    "import pandas as pd\n",
    "import numpy as np\n",
    "import scipy.stats as stats\n",
    "from scipy.stats import chi2_contingency\n"
   ]
  },
  {
   "attachments": {},
   "cell_type": "markdown",
   "metadata": {},
   "source": [
    "1.1 Benchmark Datasets: Adult"
   ]
  },
  {
   "cell_type": "code",
   "execution_count": 2,
   "metadata": {},
   "outputs": [
    {
     "name": "stdout",
     "output_type": "stream",
     "text": [
      "race      Amer-Indian-Eskimo   Asian-Pac-Islander   Black   Other   White\n",
      "sex                                                                      \n",
      " Female                  119                  346    1555     109    8642\n",
      " Male                    192                  693    1569     162   19173\n"
     ]
    }
   ],
   "source": [
    "###### age: continuous.\n",
    "###### workclass: Private, Self-emp-not-inc, Self-emp-inc, Federal-gov, Local-gov, State-gov, Without-pay, Never-worked.\n",
    "###### fnlwgt: continuous.\n",
    "###### education: Bachelors, Some-college, 11th, HS-grad, Prof-school, Assoc-acdm, Assoc-voc, 9th, 7th-8th, 12th, Masters, 1st-4th, 10th, Doctorate, 5th-6th, Preschool.\n",
    "###### education-num: continuous.\n",
    "###### marital-status: Married-civ-spouse, Divorced, Never-married, Separated, Widowed, Married-spouse-absent, Married-AF-spouse.\n",
    "###### occupation: Tech-support, Craft-repair, Other-service, Sales, Exec-managerial, Prof-specialty, Handlers-cleaners, Machine-op-inspct, Adm-clerical, Farming-fishing, Transport-moving, Priv-house-serv, Protective-serv, Armed-Forces.\n",
    "###### relationship: Wife, Own-child, Husband, Not-in-family, Other-relative, Unmarried.\n",
    "###### race: White, Asian-Pac-Islander, Amer-Indian-Eskimo, Other, Black.\n",
    "###### sex: Female, Male.\n",
    "###### capital-gain: continuous.\n",
    "###### capital-loss: continuous.\n",
    "###### hours-per-week: continuous.\n",
    "###### native-country: United-States, Cambodia, England, Puerto-Rico, Canada, Germany, Outlying-US(Guam-USVI-etc), India, Japan, Greece, South, China, Cuba, Iran, Honduras, Philippines, Italy, Poland, Jamaica, Vietnam, Mexico, Portugal, Ireland, France, Dominican-Republic, Laos, Ecuador, Taiwan, Haiti, Columbia, Hungary, Guatemala, Nicaragua, Scotland, Thailand, Yugoslavia, El-Salvador, Trinadad&Tobago, Peru, Hong, Holand-Netherlands.\n",
    "###### class: >50K, <=50K\n",
    "\n",
    "\n",
    "df_adult = pd.read_csv('https://archive.ics.uci.edu/ml/machine-learning-databases/adult/adult.data') \n",
    "colnames_adult = ['age', 'workclass','fnlwgt','education','education-num',\n",
    "                  'marital-status','occupation','relationship','race',\n",
    "                  'sex','capital-gain','capital-loss','hours-per-week',\n",
    "                  'native-country','class']\n",
    "df_adult.columns = colnames_adult\n",
    "df_adult_cross=pd.crosstab(index=df_adult['sex'],columns=df_adult['race'])\n",
    "# print(\"GENDER:\", df_adult.sex.unique())\n",
    "# print(\"RACE:\", df_adult.race.unique())\n",
    "print(df_adult_cross)\n"
   ]
  },
  {
   "cell_type": "markdown",
   "metadata": {},
   "source": [
    "1.2 Benchmark: COMPAS"
   ]
  },
  {
   "cell_type": "code",
   "execution_count": 3,
   "metadata": {},
   "outputs": [
    {
     "name": "stdout",
     "output_type": "stream",
     "text": [
      "race    African-American  Asian  Caucasian  Hispanic  NativeAmerican  Other\n",
      "sex                                                                        \n",
      "Female               652      2        567       103               4     67\n",
      "Male                3044     30       1887       534              14    310\n"
     ]
    }
   ],
   "source": [
    "df_compas = pd.read_csv(\"data/compas_raw.csv\", skipinitialspace = True)\n",
    "df_compas.columns = df_compas.columns.str.replace(' ', '')\n",
    "df_compas.sex = df_compas.sex.str.replace(' ', '')\n",
    "df_compas.race = df_compas.race.str.replace(' ', '')\n",
    "colnames_compas = list(df_compas.columns)\n",
    "# print(df_compas.sex.unique())\n",
    "# print(df_compas.race.unique())\n",
    "# Contingency Tables: cross tabulation between GENDER and RACE\n",
    "df_compas_cross=pd.crosstab(index=df_compas['sex'],columns=df_compas['race'])\n",
    "print(df_compas_cross)"
   ]
  },
  {
   "cell_type": "code",
   "execution_count": 4,
   "metadata": {},
   "outputs": [
    {
     "name": "stdout",
     "output_type": "stream",
     "text": [
      "race  1.0  2.0  3.0  4.0  5.0  6.0   7.0  8.0\n",
      "sex                                          \n",
      "1.0    38  394  747  160   42  217  7206  122\n",
      "2.0    60  396  451  209   59  239  9933  154\n"
     ]
    }
   ],
   "source": [
    "# (3) Benchmark: LACS\n",
    "df_lacs = pd.read_csv(\"data/LSAC_raw.csv\").iloc[:,2:]\n",
    "# print(df_lacs.isna().sum())\n",
    "df_lacs = df_lacs.dropna(axis='columns', thresh=900) # int(df_lacs.shape[0]*0.05)\n",
    "df_lacs = df_lacs.dropna(axis='rows') # int(df_lacs.shape[0]*0.05)\n",
    "# print(df_lacs.isna().sum())\n",
    "assert df_lacs.isna().sum().sum() == 0\n",
    "colnames_lacs = list(df_lacs.columns)\n",
    "# Contingency Tables: cross tabulation between GENDER and RACE\n",
    "df_lacs_cross=pd.crosstab(index=df_lacs['sex'],columns=df_lacs['race'])\n",
    "print(df_lacs_cross)\n"
   ]
  },
  {
   "attachments": {},
   "cell_type": "markdown",
   "metadata": {},
   "source": [
    "##### Correlation\n",
    "1. Chi-square test finds the probability of a Null hypothesis(H0).\n",
    "2. Assumption(H0): The two columns are NOT related to each other\n",
    "3. Result of Chi-Sq Test: The Probability of H0 being True\n",
    "\n",
    "\n"
   ]
  },
  {
   "cell_type": "code",
   "execution_count": 5,
   "metadata": {},
   "outputs": [],
   "source": [
    "def cmr_v(df_cross):\n",
    "    # df_cross = df_adult_cross.copy()\n",
    "    res_chisq = chi2_contingency(df_cross, correction=False)\n",
    "    # res_chisq = chi2_contingency(df_cross, correction=True)\n",
    "    chi2 = res_chisq[0].round(2)\n",
    "    p_val = res_chisq[1].round(2)\n",
    "    N = df_cross.values.sum()\n",
    "    min_dim = min(df_cross.shape)-1\n",
    "    cramer_v = np.sqrt((chi2/N) / min_dim).round(2) # Calculate Cramer's V\n",
    "    print('chi2:', res_chisq[0].round(2), 'p_val:', res_chisq[1].round(2))\n",
    "    print('N:', N, 'min_dim:', min_dim)\n",
    "    print(\"Cramer's V: \", cramer_v)\n",
    "    return cramer_v\n",
    "\n",
    "def stat_phi(df_cross):\n",
    "    # df_cross = df_example_cross.copy()\n",
    "    n00 = df_cross.iloc[0, 0]\n",
    "    n01 = df_cross.iloc[0, 1]\n",
    "    n10 = df_cross.iloc[1, 0]\n",
    "    n11 = df_cross.iloc[1, 1]\n",
    "    n1_ = n10+n11\n",
    "    n_1 = n01+n11    \n",
    "    n0_ = n00+n01\n",
    "    n_0 = n00+n10\n",
    "    phi = ((n11*n00)-(n01*n10))/np.sqrt(n0_*n_0*n1_*n_1)\n",
    "    print('phi:', phi)\n",
    "    return phi\n",
    "\n",
    "def stat_chi(df_cross):\n",
    "    # df_cross = df_adult_cross.copy()\n",
    "    I = range(df_cross.shape[0])\n",
    "    J = range(df_cross.shape[1])\n",
    "    # N = np.sum(df_cross)\n",
    "    N = df_cross.values.sum()\n",
    "    chi = 0\n",
    "    for i in I:\n",
    "        for j in J:\n",
    "            nij = df_cross.iloc[i, j]\n",
    "            ni_ = df_cross.iloc[i, :].sum()\n",
    "            n_j = df_cross.iloc[:, j].sum()\n",
    "            chi += ((nij-((ni_*n_j)/N))**2) / ((ni_*n_j)/N)\n",
    "    # print('chi:', chi)\n",
    "    return chi\n",
    "\n",
    "def cmr_v_(df_cross):\n",
    "    chi = stat_chi(df_cross)\n",
    "    # N = np.sum(df_cross)\n",
    "    N = df_cross.values.sum()\n",
    "    min_dim = min(df_cross.shape)-1\n",
    "    cramer_v = np.sqrt((chi/N) / min_dim).round(2) # Calculate Cramer's V\n",
    "    print('chi:', chi)\n",
    "    print('N:', N, 'min_dim:', min_dim)\n",
    "    print(\"Cramer's V: \", cramer_v)\n",
    "    return cramer_v\n"
   ]
  },
  {
   "cell_type": "code",
   "execution_count": 6,
   "metadata": {},
   "outputs": [
    {
     "name": "stdout",
     "output_type": "stream",
     "text": [
      "chi2: 454.2 p_val: 0.0\n",
      "N: 32560 min_dim: 1\n",
      "Cramer's V:  0.12\n",
      "chi: 454.20178110733684\n",
      "N: 32560 min_dim: 1\n",
      "Cramer's V:  0.12\n",
      "chi2: 37.46 p_val: 0.0\n",
      "N: 7214 min_dim: 1\n",
      "Cramer's V:  0.07\n",
      "chi: 37.45588380488598\n",
      "N: 7214 min_dim: 1\n",
      "Cramer's V:  0.07\n",
      "chi2: 204.77 p_val: 0.0\n",
      "N: 20427 min_dim: 1\n",
      "Cramer's V:  0.1\n",
      "chi: 204.76681188080647\n",
      "N: 20427 min_dim: 1\n",
      "Cramer's V:  0.1\n"
     ]
    }
   ],
   "source": [
    "\n",
    "# corr_cmr_adult = cmr_v(df_adult_cross) # K(=2)xJ(>2)\n",
    "corr_cmr_adult_ = cmr_v_(df_adult_cross)\n",
    "\n",
    "# corr_cmr_compas = cmr_v(df_compas_cross) # K(=2)xJ(>2)\n",
    "corr_cmr_compas = cmr_v_(df_compas_cross) # K(=2)xJ(>2)\n",
    "\n",
    "# corr_cmr_lacs = cmr_v(df_lacs_cross) # K(=2)xJ(>2)\n",
    "corr_cmr_lacs_ = cmr_v_(df_lacs_cross) # K(=2)xJ(>2)"
   ]
  },
  {
   "cell_type": "code",
   "execution_count": null,
   "metadata": {},
   "outputs": [],
   "source": []
  }
 ],
 "metadata": {
  "kernelspec": {
   "display_name": "fairness",
   "language": "python",
   "name": "python3"
  },
  "language_info": {
   "codemirror_mode": {
    "name": "ipython",
    "version": 3
   },
   "file_extension": ".py",
   "mimetype": "text/x-python",
   "name": "python",
   "nbconvert_exporter": "python",
   "pygments_lexer": "ipython3",
   "version": "3.8.16 (default, Jan 17 2023, 23:13:24) \n[GCC 11.2.0]"
  },
  "orig_nbformat": 4,
  "vscode": {
   "interpreter": {
    "hash": "eb6b14bd15c41699b8795a1e0fccd7a42c1045ed52a1494b1eaa6fd2bbbbdd88"
   }
  }
 },
 "nbformat": 4,
 "nbformat_minor": 2
}
